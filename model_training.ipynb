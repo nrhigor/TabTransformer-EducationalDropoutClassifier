{
 "cells": [
  {
   "cell_type": "markdown",
   "metadata": {},
   "source": [
    "# TCC - Uso de _transformers_ na previsão da evasão de IES públicas no Brasil\n",
    "## Treinamento do modelo"
   ]
  },
  {
   "cell_type": "markdown",
   "metadata": {},
   "source": [
    "# Imports"
   ]
  },
  {
   "cell_type": "code",
   "execution_count": 1,
   "metadata": {},
   "outputs": [],
   "source": [
    "import keras\n",
    "import warnings\n",
    "\n",
    "import numpy as np\n",
    "import pandas as pd\n",
    "import tensorflow as tf\n",
    "import matplotlib.pyplot as plt\n",
    "import seaborn as sns\n",
    "\n",
    "from keras import layers\n",
    "from keras import ops\n",
    "from functools import partial\n",
    "from pathlib import Path\n",
    "from tensorflow import data as tf_data\n",
    "from imblearn.over_sampling import SMOTE\n",
    "from imblearn.pipeline import Pipeline\n",
    "from sklearn.cluster import KMeans\n",
    "from sklearn.decomposition import PCA\n",
    "\n",
    "warnings.filterwarnings('ignore') "
   ]
  },
  {
   "cell_type": "markdown",
   "metadata": {},
   "source": [
    "# Importação e preparação dos dados"
   ]
  },
  {
   "cell_type": "code",
   "execution_count": null,
   "metadata": {},
   "outputs": [],
   "source": [
    "filepath = Path('data')\n",
    "filename = 'treated_db.csv'"
   ]
  },
  {
   "cell_type": "code",
   "execution_count": null,
   "metadata": {},
   "outputs": [],
   "source": [
    "df = pd.read_csv(filepath/filename)\n",
    "df.dropna(inplace=True)\n",
    "df = df[df['QT_TOT'] != 0].reset_index(drop=True)\n",
    "df.head(3)"
   ]
  },
  {
   "cell_type": "markdown",
   "metadata": {},
   "source": [
    "## Transforma as colunas de quantidade em porcentagem em relação à `QT_TOT`"
   ]
  },
  {
   "cell_type": "code",
   "execution_count": null,
   "metadata": {},
   "outputs": [],
   "source": [
    "for col in df.columns:\n",
    "    if col.startswith('QT') and col != 'QT_TOT': df[col] = df[col] / df['QT_TOT']"
   ]
  },
  {
   "cell_type": "code",
   "execution_count": null,
   "metadata": {},
   "outputs": [],
   "source": [
    "df.drop([191, 108], inplace=True)\n",
    "df.QT_DESISTENCIA.sort_values()"
   ]
  },
  {
   "cell_type": "code",
   "execution_count": null,
   "metadata": {},
   "outputs": [],
   "source": [
    "extremos_desist = {\n",
    "    'min': df.QT_DESISTENCIA.min(),\n",
    "    'max': df.QT_DESISTENCIA.max()\n",
    "}"
   ]
  },
  {
   "cell_type": "code",
   "execution_count": null,
   "metadata": {},
   "outputs": [],
   "source": [
    "extremos_desist"
   ]
  },
  {
   "cell_type": "markdown",
   "metadata": {},
   "source": [
    "## Normaliza os valores de evasão entre 0 e 1 utilizando MinMax"
   ]
  },
  {
   "cell_type": "code",
   "execution_count": null,
   "metadata": {},
   "outputs": [],
   "source": [
    "df['QT_DESISTENCIA'] = (df['QT_DESISTENCIA'] - df['QT_DESISTENCIA'].min()) / (df['QT_DESISTENCIA'].max() - df['QT_DESISTENCIA'].min())\n",
    "df.head(3)"
   ]
  },
  {
   "cell_type": "markdown",
   "metadata": {},
   "source": [
    "### Retira _outliers_ e reaplica normalização"
   ]
  },
  {
   "cell_type": "code",
   "execution_count": null,
   "metadata": {},
   "outputs": [],
   "source": [
    "df.QT_DESISTENCIA.sort_values()"
   ]
  },
  {
   "cell_type": "markdown",
   "metadata": {},
   "source": [
    "## Aplica _binning_ para a taxa de evasão"
   ]
  },
  {
   "cell_type": "code",
   "execution_count": null,
   "metadata": {},
   "outputs": [],
   "source": [
    "ID2LABEL = {i: f'Nivel {i+1}' for i in range(10)}\n",
    "LABEL2ID = {f'Nivel {i+1}': i for i in range(10)}"
   ]
  },
  {
   "cell_type": "code",
   "execution_count": null,
   "metadata": {},
   "outputs": [],
   "source": [
    "def apply_label(value: float):\n",
    "    if value < 0.1: return 0\n",
    "    if value < 0.2: return 1\n",
    "    if value < 0.3: return 2\n",
    "    if value < 0.4: return 3\n",
    "    if value < 0.5: return 4\n",
    "    if value < 0.6: return 5\n",
    "    if value < 0.7: return 6\n",
    "    if value < 0.8: return 7\n",
    "    if value < 0.9: return 8\n",
    "    else:           return 9"
   ]
  },
  {
   "cell_type": "code",
   "execution_count": null,
   "metadata": {},
   "outputs": [],
   "source": [
    "df['id_label'] = df['QT_DESISTENCIA'].apply(apply_label)"
   ]
  },
  {
   "cell_type": "code",
   "execution_count": null,
   "metadata": {},
   "outputs": [],
   "source": [
    "value_counts = df.id_label.value_counts()\n",
    "value_counts.rename(ID2LABEL, inplace=True)\n",
    "display(value_counts)\n",
    "plt.figure() \n",
    "value_counts.plot.bar(\n",
    "    xlabel='Nível',\n",
    "    ylabel='Quantidade de dados',\n",
    "    color='#0c343d',\n",
    "    rot=45, \n",
    "    legend=False\n",
    ")\n",
    "plt.tight_layout()"
   ]
  },
  {
   "cell_type": "markdown",
   "metadata": {},
   "source": [
    "## Aplica técnicas de SMOTE para balancear os dados"
   ]
  },
  {
   "cell_type": "markdown",
   "metadata": {},
   "source": [
    "### Mapeia regiões"
   ]
  },
  {
   "cell_type": "code",
   "execution_count": null,
   "metadata": {},
   "outputs": [],
   "source": [
    "REGION2ID = {\n",
    "    'Norte':        0,\n",
    "    'Nordeste':     1,\n",
    "    'Centro-Oeste': 2,\n",
    "    'Sudeste':      3,\n",
    "    'Sul':          4\n",
    "}\n",
    "\n",
    "ID2REGION = {\n",
    "    0: 'Norte',\n",
    "    1: 'Nordeste',\n",
    "    2: 'Centro-Oeste',\n",
    "    3: 'Sudeste',\n",
    "    4: 'Sul'\n",
    "}\n",
    "\n",
    "df['NO_REGIAO'] = df['NO_REGIAO'].apply(lambda x: REGION2ID[x])"
   ]
  },
  {
   "cell_type": "code",
   "execution_count": null,
   "metadata": {},
   "outputs": [],
   "source": [
    "X = df.drop('id_label', axis=1)\n",
    "y = df['id_label']"
   ]
  },
  {
   "cell_type": "code",
   "execution_count": null,
   "metadata": {},
   "outputs": [],
   "source": [
    "steps = [\n",
    "    ('increase', SMOTE(sampling_strategy={0: 1300}, k_neighbors=1)),\n",
    "    ('over',     SMOTE(sampling_strategy='auto', k_neighbors=1))\n",
    "]\n",
    "pipeline = Pipeline(steps=steps)\n",
    "transformed = pipeline.fit_resample(X, y)"
   ]
  },
  {
   "cell_type": "code",
   "execution_count": null,
   "metadata": {},
   "outputs": [],
   "source": [
    "df_transformed = transformed[0]\n",
    "df_transformed['id_label'] = transformed[1]\n",
    "df_transformed.head(3)"
   ]
  },
  {
   "cell_type": "code",
   "execution_count": null,
   "metadata": {},
   "outputs": [],
   "source": [
    "df_transformed['NO_REGIAO'] = df_transformed['NO_REGIAO'].apply(lambda x: ID2REGION[x])"
   ]
  },
  {
   "cell_type": "code",
   "execution_count": null,
   "metadata": {},
   "outputs": [],
   "source": [
    "value_counts = df_transformed.id_label.value_counts()\n",
    "value_counts.sort_index(inplace=True)\n",
    "value_counts.rename(ID2LABEL, inplace=True)\n",
    "value_counts"
   ]
  },
  {
   "cell_type": "markdown",
   "metadata": {},
   "source": [
    "# Treinamento do modelo"
   ]
  },
  {
   "cell_type": "markdown",
   "metadata": {},
   "source": [
    "## Última tratativa de dados"
   ]
  },
  {
   "cell_type": "markdown",
   "metadata": {},
   "source": [
    "### Retira as colunas abaixo que não são necessárias para o treinamento"
   ]
  },
  {
   "cell_type": "code",
   "execution_count": null,
   "metadata": {},
   "outputs": [],
   "source": [
    "data = df_transformed.drop(['CO_IES', 'NU_ANO_CENSO', 'QT_TOT', 'QT_DESISTENCIA'], axis=1)\n",
    "data.head(3)"
   ]
  },
  {
   "cell_type": "markdown",
   "metadata": {},
   "source": [
    "### Retorna a coluna `label` para o DataFrame"
   ]
  },
  {
   "cell_type": "code",
   "execution_count": null,
   "metadata": {},
   "outputs": [],
   "source": [
    "data['label'] = data['id_label'].apply(lambda x: ID2LABEL[x])\n",
    "data.drop('id_label', inplace=True, axis=1)\n",
    "data.head(3)"
   ]
  },
  {
   "cell_type": "markdown",
   "metadata": {},
   "source": [
    "### Adiciona a coluna _weights_, necessária para o treinamento"
   ]
  },
  {
   "cell_type": "code",
   "execution_count": null,
   "metadata": {},
   "outputs": [],
   "source": [
    "data['weights'] = 1\n",
    "data.head(3)"
   ]
  },
  {
   "cell_type": "markdown",
   "metadata": {},
   "source": [
    "### Randomiza a ordem dos dados"
   ]
  },
  {
   "cell_type": "code",
   "execution_count": null,
   "metadata": {},
   "outputs": [],
   "source": [
    "data = data.sample(frac=1).reset_index(drop=True)"
   ]
  },
  {
   "cell_type": "markdown",
   "metadata": {},
   "source": [
    "### Salva os _datasets_ de treino e teste em formato CSV"
   ]
  },
  {
   "cell_type": "code",
   "execution_count": null,
   "metadata": {},
   "outputs": [],
   "source": [
    "for_training_path = filepath / Path('for_training')"
   ]
  },
  {
   "cell_type": "code",
   "execution_count": null,
   "metadata": {},
   "outputs": [],
   "source": [
    "train = data.iloc[:9101] # 70% treino\n",
    "train.to_csv(for_training_path / 'train_data.csv', index=False, header=False)\n",
    "\n",
    "train.label.value_counts()"
   ]
  },
  {
   "cell_type": "code",
   "execution_count": null,
   "metadata": {},
   "outputs": [],
   "source": [
    "test = data.iloc[9101:] # 30% teste\n",
    "test.to_csv(for_training_path / 'test_data.csv', index=False, header=False)\n",
    "\n",
    "test.label.value_counts()"
   ]
  },
  {
   "cell_type": "markdown",
   "metadata": {},
   "source": [
    "## TabTransformer\n",
    "\n",
    "A arquitetura _TabTransformer_ funciona da seguinte maneira:\n",
    "\n",
    "1. Todas as características categóricas são codificadas como _embeddings_, usando o mesmo `embedding_dims`. Isso significa que cada valor em cada característica categórica terá seu próprio vetor de _embedding_.\n",
    "\n",
    "2. Um _embedding_ de coluna, um vetor de _embedding_ para cada característica categórica, é adicionado (ponto a ponto) ao _embedding_ da característica categórica.\n",
    "\n",
    "3. As características categóricas incorporadas são alimentadas a uma pilha de blocos _transformer_. Cada bloco _transformer_ consiste em uma camada de autoatenção multi-cabeça seguida por uma camada _feed-forward_.\n",
    "\n",
    "4. As saídas da última camada _transformer_, que são os _embeddings_ contextuais das características categóricas, são concatenadas com as características numéricas de entrada e alimentadas a um bloco MLP final.\n",
    "\n",
    "5. Um classificador _softmax_ é aplicado no final do modelo."
   ]
  },
  {
   "cell_type": "markdown",
   "metadata": {},
   "source": [
    "### Definição de constantes para o modelo"
   ]
  },
  {
   "cell_type": "code",
   "execution_count": null,
   "metadata": {},
   "outputs": [],
   "source": [
    "CSV_HEADER = data.columns"
   ]
  },
  {
   "cell_type": "code",
   "execution_count": null,
   "metadata": {},
   "outputs": [],
   "source": [
    "NUMERIC_FEATURE_NAMES = [col for col in data.columns if col.startswith('QT')]\n",
    "CATEGORICAL_FEATURES_WITH_VOCABULARY = {\"NO_REGIAO\": sorted(list(data[\"NO_REGIAO\"].unique()))}\n",
    "WEIGHT_COLUMN_NAME = \"weights\"\n",
    "CATEGORICAL_FEATURE_NAMES = list(CATEGORICAL_FEATURES_WITH_VOCABULARY.keys())\n",
    "FEATURE_NAMES = NUMERIC_FEATURE_NAMES + CATEGORICAL_FEATURE_NAMES\n",
    "COLUMN_DEFAULTS = [\n",
    "    [0.0] if feature_name in NUMERIC_FEATURE_NAMES + [WEIGHT_COLUMN_NAME] else [\"NA\"]\n",
    "    for feature_name in CSV_HEADER\n",
    "]\n",
    "\n",
    "TARGET_FEATURE_NAME = \"label\"\n",
    "TARGET_LABELS = list(LABEL2ID.keys())"
   ]
  },
  {
   "cell_type": "code",
   "execution_count": null,
   "metadata": {},
   "outputs": [],
   "source": [
    "LEARNING_RATE = 0.0005\n",
    "WEIGHT_DECAY  = 0.001\n",
    "DROPOUT_RATE  = 0.5\n",
    "BATCH_SIZE    = 64\n",
    "NUM_EPOCHS    = 200\n",
    "\n",
    "NUM_TRANSFORMER_BLOCKS   = 1\n",
    "NUM_HEADS                = 2\n",
    "EMBEDDING_DIMS           = 8\n",
    "MLP_HIDDEN_UNITS_FACTORS = [2,1]"
   ]
  },
  {
   "cell_type": "markdown",
   "metadata": {},
   "source": [
    "### Mapeia _strings_ para índices de _encode_"
   ]
  },
  {
   "cell_type": "code",
   "execution_count": null,
   "metadata": {},
   "outputs": [],
   "source": [
    "target_label_lookup = layers.StringLookup(\n",
    "    vocabulary=TARGET_LABELS, mask_token=None, num_oov_indices=0\n",
    ")"
   ]
  },
  {
   "cell_type": "code",
   "execution_count": null,
   "metadata": {},
   "outputs": [],
   "source": [
    "def prepare_data(features, target):\n",
    "    target_index = target_label_lookup(target)\n",
    "    weights = features.pop(WEIGHT_COLUMN_NAME)\n",
    "    return features, target_index, weights"
   ]
  },
  {
   "cell_type": "markdown",
   "metadata": {},
   "source": [
    "### Realiza o _encode_ das grandezas categóricas"
   ]
  },
  {
   "cell_type": "code",
   "execution_count": null,
   "metadata": {},
   "outputs": [],
   "source": [
    "lookup_dict = {}\n",
    "for feature_name in CATEGORICAL_FEATURE_NAMES:\n",
    "    vocabulary = CATEGORICAL_FEATURES_WITH_VOCABULARY[feature_name]\n",
    "    lookup = layers.StringLookup(\n",
    "        vocabulary=vocabulary, mask_token=None, num_oov_indices=0\n",
    "    )\n",
    "    lookup_dict[feature_name] = lookup"
   ]
  },
  {
   "cell_type": "code",
   "execution_count": null,
   "metadata": {},
   "outputs": [],
   "source": [
    "def encode_categorical(batch_x, batch_y, weights):\n",
    "    for feature_name in CATEGORICAL_FEATURE_NAMES:\n",
    "        batch_x[feature_name] = lookup_dict[feature_name](batch_x[feature_name])\n",
    "\n",
    "    return batch_x, batch_y, weights"
   ]
  },
  {
   "cell_type": "markdown",
   "metadata": {},
   "source": [
    "### Função que gera um _dataset_ a partir dos arquivos CSV criados"
   ]
  },
  {
   "cell_type": "code",
   "execution_count": null,
   "metadata": {},
   "outputs": [],
   "source": [
    "def get_dataset_from_csv(csv_file_path, batch_size=128, shuffle=False):\n",
    "    dataset = (\n",
    "        tf_data.experimental.make_csv_dataset(\n",
    "            csv_file_path,\n",
    "            batch_size      = batch_size,\n",
    "            column_names    = CSV_HEADER,\n",
    "            column_defaults = COLUMN_DEFAULTS,\n",
    "            label_name      = TARGET_FEATURE_NAME,\n",
    "            num_epochs      = 1,\n",
    "            header          = False,\n",
    "            na_value        = \"?\",\n",
    "            shuffle         = shuffle,\n",
    "        )\n",
    "        .map(prepare_data, num_parallel_calls=tf_data.AUTOTUNE, deterministic=False)\n",
    "        .map(encode_categorical)\n",
    "    )\n",
    "    return dataset.cache()"
   ]
  },
  {
   "cell_type": "markdown",
   "metadata": {},
   "source": [
    "### Função responsável por gerir todo o _pipeline_, desde a tratativa dos arquivos até o treinamento e avaliação do modelo"
   ]
  },
  {
   "cell_type": "code",
   "execution_count": null,
   "metadata": {},
   "outputs": [],
   "source": [
    "def run_experiment(\n",
    "    model,\n",
    "    train_data_file,\n",
    "    test_data_file,\n",
    "    num_epochs,\n",
    "    learning_rate,\n",
    "    weight_decay,\n",
    "    batch_size,\n",
    "):\n",
    "    optimizer = keras.optimizers.AdamW(\n",
    "        learning_rate=learning_rate, weight_decay=weight_decay\n",
    "    )\n",
    "\n",
    "    model.compile(\n",
    "        optimizer=optimizer,\n",
    "        loss=keras.losses.SparseCategoricalCrossentropy(),\n",
    "        metrics=[keras.metrics.SparseCategoricalAccuracy(name=\"accuracy\")],\n",
    "    )\n",
    "\n",
    "    train_dataset = get_dataset_from_csv(train_data_file, batch_size, shuffle=True)\n",
    "    validation_dataset = get_dataset_from_csv(test_data_file, batch_size)\n",
    "\n",
    "    checkpoint_callback = keras.callbacks.ModelCheckpoint(\n",
    "        filepath       = \"models/model_last.keras\",\n",
    "        monitor        = \"val_accuracy\",\n",
    "        save_best_only = True,\n",
    "        mode           = \"max\",\n",
    "        verbose        = 1\n",
    "    )\n",
    "\n",
    "    early_stopping = keras.callbacks.EarlyStopping(\n",
    "        monitor              = 'val_loss',\n",
    "        patience             = 10,\n",
    "        restore_best_weights = True\n",
    "    )\n",
    "\n",
    "    print(\"Start training the model...\")\n",
    "    history = model.fit(\n",
    "        train_dataset, epochs=num_epochs, validation_data=validation_dataset, callbacks=[checkpoint_callback, early_stopping]\n",
    "    )\n",
    "    print(\"Model training finished\")\n",
    "\n",
    "    _, accuracy = model.evaluate(validation_dataset, verbose=0)\n",
    "\n",
    "    print(f\"Validation accuracy: {round(accuracy * 100, 2)}%\")\n",
    "\n",
    "    return history, model\n"
   ]
  },
  {
   "cell_type": "markdown",
   "metadata": {},
   "source": [
    "### Função que define as entradas para os modelos como um dicionário, onde a chave é o nome do recurso, e o valor é um tensor `keras.layers.Input` com a forma e o tipo de dados correspondentes do recurso."
   ]
  },
  {
   "cell_type": "code",
   "execution_count": null,
   "metadata": {},
   "outputs": [],
   "source": [
    "def create_model_inputs():\n",
    "    inputs = {}\n",
    "    for feature_name in FEATURE_NAMES:\n",
    "        if feature_name in NUMERIC_FEATURE_NAMES:\n",
    "            inputs[feature_name] = layers.Input(\n",
    "                name=feature_name, shape=(), dtype=\"float32\"\n",
    "            )\n",
    "        else:\n",
    "            inputs[feature_name] = layers.Input(\n",
    "                name=feature_name, shape=(), dtype=\"int32\"\n",
    "            )\n",
    "    return inputs\n"
   ]
  },
  {
   "cell_type": "markdown",
   "metadata": {},
   "source": [
    "### Função que retorna `encoded_categorical_feature_list` e `numerical_feature_list`, codificando as características categóricas como _embeddings_, usando um `embedding_dims` fixo para todas as características, independentemente de seus tamanhos de vocabulário"
   ]
  },
  {
   "cell_type": "code",
   "execution_count": null,
   "metadata": {},
   "outputs": [],
   "source": [
    "def encode_inputs(inputs, embedding_dims):\n",
    "    encoded_categorical_feature_list = []\n",
    "    numerical_feature_list = []\n",
    "\n",
    "    for feature_name in inputs:\n",
    "        if feature_name in CATEGORICAL_FEATURE_NAMES:\n",
    "            vocabulary = CATEGORICAL_FEATURES_WITH_VOCABULARY[feature_name]\n",
    "\n",
    "            embedding = layers.Embedding(\n",
    "                input_dim=len(vocabulary), output_dim=embedding_dims\n",
    "            )\n",
    "\n",
    "            # Convert the index values to embedding representations.\n",
    "            encoded_categorical_feature = embedding(inputs[feature_name])\n",
    "            encoded_categorical_feature_list.append(encoded_categorical_feature)\n",
    "\n",
    "        else:\n",
    "            # Use the numerical features as-is.\n",
    "            numerical_feature = ops.expand_dims(inputs[feature_name], -1)\n",
    "            numerical_feature_list.append(numerical_feature)\n",
    "\n",
    "    return encoded_categorical_feature_list, numerical_feature_list"
   ]
  },
  {
   "cell_type": "markdown",
   "metadata": {},
   "source": [
    "### Implementação de um bloco MLP"
   ]
  },
  {
   "cell_type": "code",
   "execution_count": null,
   "metadata": {},
   "outputs": [],
   "source": [
    "def create_mlp(hidden_units, dropout_rate, activation, normalization_layer, name=None):\n",
    "    mlp_layers = []\n",
    "    for units in hidden_units:\n",
    "        mlp_layers.append(normalization_layer())\n",
    "        mlp_layers.append(layers.Dense(units, activation=activation))\n",
    "        mlp_layers.append(layers.Dropout(dropout_rate))\n",
    "\n",
    "    return keras.Sequential(mlp_layers, name=name)"
   ]
  },
  {
   "cell_type": "markdown",
   "metadata": {},
   "source": [
    "### Monta o bloco _TabTransformer_"
   ]
  },
  {
   "cell_type": "code",
   "execution_count": null,
   "metadata": {},
   "outputs": [],
   "source": [
    "def create_tabtransformer_classifier(\n",
    "    num_transformer_blocks,\n",
    "    num_heads,\n",
    "    embedding_dims,\n",
    "    mlp_hidden_units_factors,\n",
    "    dropout_rate,\n",
    "    use_column_embedding=False,\n",
    "):\n",
    "    # Create model inputs.\n",
    "    inputs = create_model_inputs()\n",
    "    # encode features.\n",
    "    encoded_categorical_feature_list, numerical_feature_list = encode_inputs(\n",
    "        inputs, embedding_dims\n",
    "    )\n",
    "    # Stack categorical feature embeddings for the Tansformer.\n",
    "    encoded_categorical_features = ops.stack(encoded_categorical_feature_list, axis=1)\n",
    "    # Concatenate numerical features.\n",
    "    numerical_features = layers.concatenate(numerical_feature_list)\n",
    "\n",
    "    # Add column embedding to categorical feature embeddings.\n",
    "    if use_column_embedding:\n",
    "        num_columns = encoded_categorical_features.shape[1]\n",
    "        column_embedding = layers.Embedding(\n",
    "            input_dim=num_columns, output_dim=embedding_dims\n",
    "        )\n",
    "        column_indices = ops.arange(start=0, stop=num_columns, step=1)\n",
    "        encoded_categorical_features = encoded_categorical_features + column_embedding(\n",
    "            column_indices\n",
    "        )\n",
    "\n",
    "    # Create multiple layers of the Transformer block.\n",
    "    for block_idx in range(num_transformer_blocks):\n",
    "        # Create a multi-head attention layer.\n",
    "        attention_output = layers.MultiHeadAttention(\n",
    "            num_heads=num_heads,\n",
    "            key_dim=embedding_dims,\n",
    "            dropout=dropout_rate,\n",
    "            name=f\"multihead_attention_{block_idx}\",\n",
    "        )(encoded_categorical_features, encoded_categorical_features)\n",
    "        # Skip connection 1.\n",
    "        x = layers.Add(name=f\"skip_connection1_{block_idx}\")(\n",
    "            [attention_output, encoded_categorical_features]\n",
    "        )\n",
    "        # Layer normalization 1.\n",
    "        x = layers.LayerNormalization(name=f\"layer_norm1_{block_idx}\", epsilon=1e-6)(x)\n",
    "        # Feedforward.\n",
    "        feedforward_output = create_mlp(\n",
    "            hidden_units=[embedding_dims],\n",
    "            dropout_rate=dropout_rate,\n",
    "            activation=keras.activations.gelu,\n",
    "            normalization_layer=partial(\n",
    "                layers.LayerNormalization, epsilon=1e-6\n",
    "            ),  # using partial to provide keyword arguments before initialization\n",
    "            name=f\"feedforward_{block_idx}\",\n",
    "        )(x)\n",
    "        # Skip connection 2.\n",
    "        x = layers.Add(name=f\"skip_connection2_{block_idx}\")([feedforward_output, x])\n",
    "        # Layer normalization 2.\n",
    "        encoded_categorical_features = layers.LayerNormalization(\n",
    "            name=f\"layer_norm2_{block_idx}\", epsilon=1e-6\n",
    "        )(x)\n",
    "\n",
    "    # Flatten the \"contextualized\" embeddings of the categorical features.\n",
    "    categorical_features = layers.Flatten()(encoded_categorical_features)\n",
    "    # Apply layer normalization to the numerical features.\n",
    "    numerical_features = layers.LayerNormalization(epsilon=1e-6)(numerical_features)\n",
    "    # Prepare the input for the final MLP block.\n",
    "    features = layers.concatenate([categorical_features, numerical_features])\n",
    "\n",
    "    # Compute MLP hidden_units.\n",
    "    mlp_hidden_units = [\n",
    "        factor * features.shape[-1] for factor in mlp_hidden_units_factors\n",
    "    ]\n",
    "    # Create final MLP.\n",
    "    features = create_mlp(\n",
    "        hidden_units=mlp_hidden_units,\n",
    "        dropout_rate=dropout_rate,\n",
    "        activation=keras.activations.selu,\n",
    "        normalization_layer=layers.BatchNormalization,\n",
    "        name=\"MLP\",\n",
    "    )(features)\n",
    "\n",
    "    # Add a softmax as a class classifer.\n",
    "    outputs = layers.Dense(units=len(TARGET_LABELS), activation=\"softmax\", name=\"softmax\")(features)\n",
    "    model   = keras.Model(inputs=inputs, outputs=outputs)\n",
    "    return model\n",
    "\n",
    "\n",
    "tabtransformer_model = create_tabtransformer_classifier(\n",
    "    num_transformer_blocks=NUM_TRANSFORMER_BLOCKS,\n",
    "    num_heads=NUM_HEADS,\n",
    "    embedding_dims=EMBEDDING_DIMS,\n",
    "    mlp_hidden_units_factors=MLP_HIDDEN_UNITS_FACTORS,\n",
    "    dropout_rate=DROPOUT_RATE,\n",
    ")\n",
    "\n",
    "print(\"Total model weights:\", tabtransformer_model.count_params())"
   ]
  },
  {
   "cell_type": "markdown",
   "metadata": {},
   "source": [
    "### Roda o _loop_ de treino e validação"
   ]
  },
  {
   "cell_type": "code",
   "execution_count": null,
   "metadata": {},
   "outputs": [],
   "source": [
    "history, model = run_experiment(\n",
    "    model           = tabtransformer_model,\n",
    "    train_data_file = 'data/for_training/train_data.csv',\n",
    "    test_data_file  = 'data/for_training/test_data.csv',\n",
    "    num_epochs      = NUM_EPOCHS,\n",
    "    learning_rate   = LEARNING_RATE,\n",
    "    weight_decay    = WEIGHT_DECAY,\n",
    "    batch_size      = BATCH_SIZE,\n",
    ")"
   ]
  },
  {
   "cell_type": "code",
   "execution_count": 2,
   "metadata": {},
   "outputs": [],
   "source": [
    "training_history_path = 'data/for_training/training_history.csv'"
   ]
  },
  {
   "cell_type": "code",
   "execution_count": null,
   "metadata": {},
   "outputs": [],
   "source": [
    "pd.DataFrame(history.history).to_csv(training_history_path)"
   ]
  },
  {
   "cell_type": "markdown",
   "metadata": {},
   "source": [
    "# Resultados"
   ]
  },
  {
   "cell_type": "markdown",
   "metadata": {},
   "source": [
    "## Gráficos do histórico de treinamento"
   ]
  },
  {
   "cell_type": "code",
   "execution_count": 3,
   "metadata": {},
   "outputs": [],
   "source": [
    "history = pd.read_csv(training_history_path)"
   ]
  },
  {
   "cell_type": "code",
   "execution_count": 4,
   "metadata": {},
   "outputs": [],
   "source": [
    "KEY2NAME = {\n",
    "    'accuracy': 'Acurácia',\n",
    "    'loss': 'Perda',\n",
    "    'val_accuracy': 'Acurácia na Validação',\n",
    "    'val_loss': 'Perda na Validação',\n",
    "}"
   ]
  },
  {
   "cell_type": "code",
   "execution_count": 5,
   "metadata": {},
   "outputs": [],
   "source": [
    "all_epochs = list(range(1, 200 + 1))"
   ]
  },
  {
   "cell_type": "code",
   "execution_count": 6,
   "metadata": {},
   "outputs": [],
   "source": [
    "history.index = all_epochs"
   ]
  },
  {
   "cell_type": "code",
   "execution_count": 9,
   "metadata": {},
   "outputs": [
    {
     "data": {
      "image/png": "[encoded data removed]",
      "text/plain": [
       "<Figure size 1000x600 with 1 Axes>"
      ]
     },
     "metadata": {},
     "output_type": "display_data"
    }
   ],
   "source": [
    "fig, ax = plt.subplots(figsize=(10, 6))\n",
    "ax.plot(history.index, history.accuracy, label=KEY2NAME['accuracy'], color='red')\n",
    "ax.plot(history.index, history.val_accuracy, label=KEY2NAME['val_accuracy'], color='blue')\n",
    "ax.legend(fontsize=\"16\")\n",
    "ax.set_xlabel('Época')\n",
    "ax.set_ylabel('Valor da Métrica')\n",
    "ax.grid(True, linestyle='--', alpha=0.5)\n",
    "\n",
    "plt.tight_layout()\n",
    "plt.show()"
   ]
  },
  {
   "cell_type": "code",
   "execution_count": 7,
   "metadata": {},
   "outputs": [
    {
     "data": {
      "image/png": "[encoded data removed]",
      "text/plain": [
       "<Figure size 1000x600 with 1 Axes>"
      ]
     },
     "metadata": {},
     "output_type": "display_data"
    }
   ],
   "source": [
    "fig, ax = plt.subplots(figsize=(10, 6))\n",
    "ax.plot(history.index, history.loss, label=KEY2NAME['loss'], color='red')\n",
    "ax.plot(history.index, history.val_loss, label=KEY2NAME['val_loss'], color='blue')\n",
    "ax.legend(fontsize=\"16\")\n",
    "ax.set_xlabel('Época')\n",
    "ax.set_ylabel('Valor da Métrica')\n",
    "ax.grid(True, linestyle='--', alpha=0.5)\n",
    "\n",
    "plt.tight_layout()\n",
    "plt.show()"
   ]
  },
  {
   "cell_type": "markdown",
   "metadata": {},
   "source": [
    "## _Scatter plot_"
   ]
  },
  {
   "cell_type": "code",
   "execution_count": null,
   "metadata": {},
   "outputs": [],
   "source": [
    "model = tf.keras.models.load_model('models\\model_last.keras')"
   ]
  },
  {
   "cell_type": "code",
   "execution_count": null,
   "metadata": {},
   "outputs": [],
   "source": [
    "test_data = get_dataset_from_csv('data/for_training/test_data.csv')\n",
    "result    = model.predict(test_data)"
   ]
  },
  {
   "cell_type": "code",
   "execution_count": null,
   "metadata": {},
   "outputs": [],
   "source": [
    "test_training = test.copy()\n",
    "test_training['predictions'] = [ID2LABEL[list(tf.argmax(result, axis=1).numpy())[i]] for i in range(len(result))]"
   ]
  },
  {
   "cell_type": "code",
   "execution_count": null,
   "metadata": {},
   "outputs": [],
   "source": [
    "level_map = {level: i for i, level in enumerate(TARGET_LABELS)}\n",
    "\n",
    "# Aplicar o mapeamento aos dados\n",
    "test_training['predictions_num'] = test_training['predictions'].map(level_map)\n",
    "test_training['label_num']       = test_training['label'].map(level_map)"
   ]
  },
  {
   "cell_type": "code",
   "execution_count": null,
   "metadata": {},
   "outputs": [],
   "source": [
    "test_training['label_num'].corr(test_training['predictions_num'])"
   ]
  },
  {
   "cell_type": "code",
   "execution_count": null,
   "metadata": {},
   "outputs": [],
   "source": [
    "frequency = test_training.groupby(['predictions_num', 'label_num']).size().reset_index(name='frequency')\n",
    "\n",
    "plt.figure(figsize=(8, 6))\n",
    "scatter = plt.scatter(\n",
    "    x=frequency['label_num'],\n",
    "    y=frequency['predictions_num'],\n",
    "    s=frequency['frequency'] * 5,  \n",
    "    c=frequency['frequency'],      \n",
    "    cmap='PuBu',                   \n",
    "    alpha=0.75                     \n",
    ")\n",
    "\n",
    "plt.colorbar(scatter, label='Frequência')\n",
    "plt.xlabel('Valor Previsto')\n",
    "plt.ylabel('Valor Original')\n",
    "plt.show()"
   ]
  },
  {
   "cell_type": "markdown",
   "metadata": {},
   "source": [
    "### Retorno aos valores originais"
   ]
  },
  {
   "cell_type": "code",
   "execution_count": null,
   "metadata": {},
   "outputs": [],
   "source": [
    "test_training.label_num"
   ]
  },
  {
   "cell_type": "code",
   "execution_count": null,
   "metadata": {},
   "outputs": [],
   "source": [
    "def return_norm(bins):\n",
    "    return (bins + 0.5) / 10"
   ]
  },
  {
   "cell_type": "code",
   "execution_count": null,
   "metadata": {},
   "outputs": [],
   "source": [
    "test_training.head(3)"
   ]
  },
  {
   "cell_type": "code",
   "execution_count": null,
   "metadata": {},
   "outputs": [],
   "source": [
    "X_min = extremos_desist['min']\n",
    "X_max = extremos_desist['max']"
   ]
  },
  {
   "cell_type": "code",
   "execution_count": null,
   "metadata": {},
   "outputs": [],
   "source": [
    "labels      = return_norm(test_training.label_num)\n",
    "predictions = return_norm(test_training.predictions_num)"
   ]
  },
  {
   "cell_type": "code",
   "execution_count": null,
   "metadata": {},
   "outputs": [],
   "source": [
    "for col_name, col in zip(['back_labels', 'back_predictions'], [labels, predictions]):\n",
    "    test_training[col_name] = (col * (X_max - X_min) + X_min)\n",
    "    test_training[col_name] = test_training[col_name]*100\n",
    "\n",
    "test_training.head(3)"
   ]
  },
  {
   "cell_type": "code",
   "execution_count": null,
   "metadata": {},
   "outputs": [],
   "source": [
    "frequency = test_training.groupby(['back_predictions', 'back_labels']).size().reset_index(name='frequency')\n",
    "\n",
    "plt.figure(figsize=(8, 6))\n",
    "scatter = plt.scatter(\n",
    "    x=frequency['back_labels'],\n",
    "    y=frequency['back_predictions'],\n",
    "    s=frequency['frequency'] * 5,  \n",
    "    c=frequency['frequency'],     \n",
    "    cmap='PuBu',                   \n",
    "    alpha=0.75                     \n",
    ")\n",
    "\n",
    "plt.colorbar(scatter, label='Frequência')\n",
    "plt.xlabel('Valor Previsto (%)')\n",
    "plt.ylabel('Valor Original (%)')\n",
    "plt.show()"
   ]
  },
  {
   "cell_type": "markdown",
   "metadata": {},
   "source": [
    "## _Boxplot_"
   ]
  },
  {
   "cell_type": "code",
   "execution_count": null,
   "metadata": {},
   "outputs": [],
   "source": [
    "plt.figure(figsize=(10, 6))\n",
    "sns.boxplot(data=test_training, x='predictions_num', y='label_num', palette='viridis')\n",
    "sns.stripplot(data=test_training, x='predictions_num', y='label_num', color='black', alpha=0.6, jitter=True)\n",
    "\n",
    "plt.xlabel('Valor Previsto')\n",
    "plt.ylabel('Valor Original')\n",
    "plt.show()\n"
   ]
  },
  {
   "cell_type": "markdown",
   "metadata": {},
   "source": [
    "## Correlações"
   ]
  },
  {
   "cell_type": "code",
   "execution_count": null,
   "metadata": {},
   "outputs": [],
   "source": [
    "cols_etnias = [\"QT_BRANCA\", \"QT_PRETA\", \"QT_PARDA\", \"QT_AMARELA\", \"QT_INDIGENA\"]\n",
    "df_corr = test_training[cols_etnias + [\"label_num\"]]\n",
    "df_corr.rename(columns={\n",
    "    \"QT_BRANCA\": \"Branca\",\n",
    "    \"QT_PRETA\": \"Preta\",\n",
    "    \"QT_PARDA\": \"Parda\",\n",
    "    \"QT_AMARELA\": \"Amarela\",\n",
    "    \"QT_INDIGENA\": \"Indígena\",\n",
    "    \"label_num\": \"Evasão (%)\"\n",
    "}, inplace=True)\n",
    "\n",
    "df_corr"
   ]
  },
  {
   "cell_type": "code",
   "execution_count": null,
   "metadata": {},
   "outputs": [],
   "source": [
    "correlation_matrix = df_corr.corr()\n",
    "correlation_matrix[\"Evasão (%)\"]"
   ]
  },
  {
   "cell_type": "code",
   "execution_count": null,
   "metadata": {},
   "outputs": [],
   "source": [
    "\n",
    "plt.figure(figsize=(2, 4))\n",
    "sns.heatmap(correlation_matrix[[\"Evasão (%)\"]].drop(\"Evasão (%)\"), annot=True, cmap=\"coolwarm\", fmt=\".2f\")\n",
    "plt.yticks(rotation=0)\n",
    "plt.show()\n"
   ]
  },
  {
   "cell_type": "code",
   "execution_count": null,
   "metadata": {},
   "outputs": [],
   "source": [
    "correlation_matrix"
   ]
  },
  {
   "cell_type": "code",
   "execution_count": null,
   "metadata": {},
   "outputs": [],
   "source": [
    "corr_indigena = test_training.sort_values(by=['QT_INDIGENA']).tail(300)"
   ]
  },
  {
   "cell_type": "code",
   "execution_count": null,
   "metadata": {},
   "outputs": [],
   "source": [
    "frequency = corr_indigena.groupby(['predictions_num', 'label_num']).size().reset_index(name='frequency')\n",
    "\n",
    "plt.figure(figsize=(8, 6))\n",
    "scatter = plt.scatter(\n",
    "    x=frequency['label_num'],\n",
    "    y=frequency['predictions_num'],\n",
    "    s=frequency['frequency'] * 5,  \n",
    "    c=frequency['frequency'],      \n",
    "    cmap='turbo',                  \n",
    "    alpha=0.75                     \n",
    ")\n",
    "\n",
    "plt.colorbar(scatter, label='Frequência')\n",
    "plt.xlabel('Valor Previsto (%)')\n",
    "plt.ylabel('Valor Original (%)')\n",
    "plt.show()"
   ]
  },
  {
   "cell_type": "markdown",
   "metadata": {},
   "source": [
    "## Clusterização"
   ]
  },
  {
   "cell_type": "code",
   "execution_count": null,
   "metadata": {},
   "outputs": [],
   "source": [
    "latent_model = tf.keras.Model(inputs=model.input, outputs=model.get_layer('concatenate_1').output)\n",
    "latent_model.count_params()"
   ]
  },
  {
   "cell_type": "code",
   "execution_count": null,
   "metadata": {},
   "outputs": [],
   "source": [
    "def extract_latent_features(model, dataset, latent_layer_name):\n",
    "    latent_model = tf.keras.Model(inputs=model.input, outputs=model.get_layer(latent_layer_name).output)\n",
    "    \n",
    "    features = []\n",
    "    for batch in dataset:\n",
    "        if isinstance(batch, tuple):\n",
    "            x = batch[0]\n",
    "        else:\n",
    "            x = batch\n",
    "        latent = latent_model(x, training=False)\n",
    "        features.append(latent.numpy())\n",
    "    \n",
    "    return np.vstack(features)\n",
    "\n",
    "latent_features = extract_latent_features(model, test_data, latent_layer_name='concatenate_1')"
   ]
  },
  {
   "cell_type": "code",
   "execution_count": null,
   "metadata": {},
   "outputs": [],
   "source": [
    "kmeans = KMeans(n_clusters=4, random_state=42)\n",
    "clusters = kmeans.fit_predict(latent_features)"
   ]
  },
  {
   "cell_type": "code",
   "execution_count": null,
   "metadata": {},
   "outputs": [],
   "source": [
    "pca = PCA(n_components=2)\n",
    "latent_2d = pca.fit_transform(latent_features)"
   ]
  },
  {
   "cell_type": "code",
   "execution_count": null,
   "metadata": {},
   "outputs": [],
   "source": [
    "plt.figure(figsize=(8,6))\n",
    "scatter = plt.scatter(latent_2d[:, 0], latent_2d[:, 1], c=clusters, cmap='Set1', alpha=0.7)\n",
    "plt.xlabel(\"Componente PCA 1\")\n",
    "plt.ylabel(\"Componente PCA 2\")\n",
    "plt.legend(*scatter.legend_elements(), title=\"Clusters\")\n",
    "plt.show()"
   ]
  },
  {
   "cell_type": "code",
   "execution_count": null,
   "metadata": {},
   "outputs": [],
   "source": [
    "test_training['clusters'] = clusters"
   ]
  },
  {
   "cell_type": "code",
   "execution_count": null,
   "metadata": {},
   "outputs": [],
   "source": [
    "test_training['NO_REGIAO'] = test_training['NO_REGIAO'].apply(lambda x: REGION2ID[x])\n",
    "test_training.head(3)"
   ]
  },
  {
   "cell_type": "code",
   "execution_count": null,
   "metadata": {},
   "outputs": [],
   "source": [
    "cluster_means = test_training[[col for col in test_training if col not in ['label', 'predictions']]].groupby('clusters').mean()\n",
    "print(cluster_means)"
   ]
  },
  {
   "cell_type": "code",
   "execution_count": null,
   "metadata": {},
   "outputs": [],
   "source": [
    "for column in cluster_means.columns:\n",
    "    plt.figure(figsize=(10, 6))\n",
    "    sns.barplot(x=cluster_means.index, y=cluster_means[column], palette='viridis')\n",
    "    plt.title(f'Média de {column} por Cluster')\n",
    "    plt.xlabel('Cluster')\n",
    "    plt.ylabel(column)\n",
    "    plt.show()"
   ]
  }
 ],
 "metadata": {
  "kernelspec": {
   "display_name": ".venv",
   "language": "python",
   "name": "python3"
  },
  "language_info": {
   "codemirror_mode": {
    "name": "ipython",
    "version": 3
   },
   "file_extension": ".py",
   "mimetype": "text/x-python",
   "name": "python",
   "nbconvert_exporter": "python",
   "pygments_lexer": "ipython3",
   "version": "3.12.6"
  }
 },
 "nbformat": 4,
 "nbformat_minor": 2
}
